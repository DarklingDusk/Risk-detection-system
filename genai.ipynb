{
 "cells": [
  {
   "cell_type": "code",
   "execution_count": 5,
   "id": "d4bd099c-c086-4f8a-ba18-60864a0bbe34",
   "metadata": {},
   "outputs": [],
   "source": [
    "import pandas as pd\n",
    "import numpy as np"
   ]
  },
  {
   "cell_type": "code",
   "execution_count": 6,
   "id": "81b8f8cc-e77a-493e-8fd6-fbdb88617d6e",
   "metadata": {},
   "outputs": [],
   "source": [
    "def explain_row(r):\n",
    "    reasons = []\n",
    "    impact = \"Potential reconnaissance activity.\"\n",
    "    action = \"Monitor traffic.\"\n",
    "\n",
    "    url = str(r['URL']).lower()\n",
    "    ua  = str(r['User-Agent']).lower()\n",
    "    method = str(r['Method'])\n",
    "\n",
    "    # Rule 1: Suspicious URL patterns\n",
    "    if any(p in url for p in [\"../\", \"etc/passwd\", \"cgi-bin\"]):\n",
    "        reasons.append(\"Suspicious path traversal or legacy endpoint access\")\n",
    "        impact = \"Attacker may be probing for sensitive files or old scripts.\"\n",
    "        action = \"Block this IP and patch vulnerable endpoints.\"\n",
    "\n",
    "    # Rule 2: Automated tools\n",
    "    if any(bot in ua for bot in [\"curl\", \"wget\", \"sqlmap\", \"bot\"]):\n",
    "        reasons.append(\"Automated scanner detected\")\n",
    "        impact = \"Likely reconnaissance by attacker’s script.\"\n",
    "        action = \"Add this IP to denylist.\"\n",
    "\n",
    "    # Rule 3: HTTP method abuse\n",
    "    if method not in [\"GET\", \"POST\", \"HEAD\"]:\n",
    "        reasons.append(f\"Unusual HTTP method: {method}\")\n",
    "        impact = \"Potential exploitation attempt using uncommon HTTP verb.\"\n",
    "        action = \"Inspect this traffic manually.\"\n",
    "\n",
    "    if not reasons:\n",
    "        reasons.append(\"Unusual behavior compared to baseline\")\n",
    "\n",
    "    return {\n",
    "        \"summary\": f\"Suspicious request → {url} via {method}\",\n",
    "        \"reasons\": \" | \".join(reasons),\n",
    "        \"impact\": impact,\n",
    "        \"suggested_action\": action,\n",
    "        \"confidence\": \"High\" if r.get(\"anomaly_score\", 0) > 0.8 else \"Medium\"\n",
    "    }\n"
   ]
  },
  {
   "cell_type": "code",
   "execution_count": 7,
   "id": "981a354c-25a6-48e8-9638-dc9076782497",
   "metadata": {},
   "outputs": [
    {
     "name": "stdout",
     "output_type": "stream",
     "text": [
      "   Unnamed: 0  Method  User-Agent  Pragma  Cache-Control  Accept  \\\n",
      "0           1       0           0       0              0       1   \n",
      "1           1       0           0       0              0       1   \n",
      "2           0       0           0       0              0       1   \n",
      "3           1       0           0       0              0       1   \n",
      "4           0       0           0       0              0       1   \n",
      "\n",
      "   Accept-encoding  Accept-charset  language  host  ...  content    URL  \\\n",
      "0                0               0         0     0  ...    12091   8354   \n",
      "1                0               0         0     0  ...    12091   3352   \n",
      "2                0               0         0     0  ...    12091  12981   \n",
      "3                0               0         0     0  ...    12091   1703   \n",
      "4                0               0         0     0  ...    12091   6219   \n",
      "\n",
      "   url_length  num_question_marks  num_equals  num_percent  num_slash  \\\n",
      "0          71                   1           1            0          6   \n",
      "1          67                   0           0            0          7   \n",
      "2         334                   1          13            6          6   \n",
      "3         326                   1          13            8          6   \n",
      "4         128                   1           5            2          6   \n",
      "\n",
      "   num_special  true_label  predicted  \n",
      "0            0           0          0  \n",
      "1            0           0          0  \n",
      "2           12           1          1  \n",
      "3           12           0          0  \n",
      "4            4           1          1  \n",
      "\n",
      "[5 rows x 23 columns]\n",
      "💾 Explanations saved to csic2010_with_explanations.csv\n"
     ]
    }
   ],
   "source": [
    "df = pd.read_csv(\"csic2010_predictions.csv\")\n",
    "\n",
    "df_anomalies = df[df[\"predicted\"] == 1]  \n",
    "\n",
    "explanations = df_anomalies.apply(explain_row, axis=1, result_type=\"expand\")\n",
    "\n",
    "df_out = pd.concat([df_anomalies, explanations], axis=1)\n",
    "df_out.to_csv(\"csic2010_with_explanations.csv\", index=False)\n",
    "print(df.head())\n",
    "print(\"💾 Explanations saved to csic2010_with_explanations.csv\")"
   ]
  },
  {
   "cell_type": "code",
   "execution_count": null,
   "id": "b4db4be2-2bbb-4576-aace-a2bc5148a67b",
   "metadata": {},
   "outputs": [],
   "source": []
  }
 ],
 "metadata": {
  "kernelspec": {
   "display_name": "Python 3 (ipykernel)",
   "language": "python",
   "name": "python3"
  },
  "language_info": {
   "codemirror_mode": {
    "name": "ipython",
    "version": 3
   },
   "file_extension": ".py",
   "mimetype": "text/x-python",
   "name": "python",
   "nbconvert_exporter": "python",
   "pygments_lexer": "ipython3",
   "version": "3.12.0"
  }
 },
 "nbformat": 4,
 "nbformat_minor": 5
}
