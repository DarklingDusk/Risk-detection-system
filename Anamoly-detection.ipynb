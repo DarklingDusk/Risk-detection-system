{
 "cells": [
  {
   "cell_type": "code",
   "execution_count": 2,
   "id": "ecb301d0-b57b-41a4-8874-f26d762f2bb1",
   "metadata": {},
   "outputs": [],
   "source": [
    "# Necessary Libraries\n",
    "\n",
    "import pandas as pd\n",
    "from sklearn.ensemble import IsolationForest\n",
    "from sklearn.preprocessing import OneHotEncoder, StandardScaler\n",
    "from sklearn.compose import ColumnTransformer\n",
    "from sklearn.pipeline import Pipeline"
   ]
  },
  {
   "cell_type": "code",
   "execution_count": 2,
   "id": "ecc0ffac-857a-4518-be85-21a79ec9c853",
   "metadata": {},
   "outputs": [
    {
     "name": "stdout",
     "output_type": "stream",
     "text": [
      "\n",
      "Loading the Web logs from csic_database.csv\n"
     ]
    }
   ],
   "source": [
    "#Load the Logs\n",
    "logs =(\"csic_database.csv\")\n",
    "print(f\"\\nLoading the Web logs from {logs}\")\n",
    "df=pd.read_csv(logs)"
   ]
  },
  {
   "cell_type": "code",
   "execution_count": 3,
   "id": "32dea01a-36ec-413c-be61-d3e1ce0de235",
   "metadata": {
    "scrolled": true
   },
   "outputs": [
    {
     "name": "stdout",
     "output_type": "stream",
     "text": [
      "\n",
      "Scheme Overview:\n",
      " <bound method DataFrame.info of       Unnamed: 0 Method                                         User-Agent  \\\n",
      "0         Normal    GET  Mozilla/5.0 (compatible; Konqueror/3.5; Linux)...   \n",
      "1         Normal    GET  Mozilla/5.0 (compatible; Konqueror/3.5; Linux)...   \n",
      "2         Normal   POST  Mozilla/5.0 (compatible; Konqueror/3.5; Linux)...   \n",
      "3         Normal    GET  Mozilla/5.0 (compatible; Konqueror/3.5; Linux)...   \n",
      "4         Normal   POST  Mozilla/5.0 (compatible; Konqueror/3.5; Linux)...   \n",
      "...          ...    ...                                                ...   \n",
      "61060  Anomalous    GET  Mozilla/5.0 (compatible; Konqueror/3.5; Linux)...   \n",
      "61061  Anomalous   POST  Mozilla/5.0 (compatible; Konqueror/3.5; Linux)...   \n",
      "61062  Anomalous    GET  Mozilla/5.0 (compatible; Konqueror/3.5; Linux)...   \n",
      "61063  Anomalous    GET  Mozilla/5.0 (compatible; Konqueror/3.5; Linux)...   \n",
      "61064  Anomalous    GET  Mozilla/5.0 (compatible; Konqueror/3.5; Linux)...   \n",
      "\n",
      "         Pragma Cache-Control  \\\n",
      "0      no-cache      no-cache   \n",
      "1      no-cache      no-cache   \n",
      "2      no-cache      no-cache   \n",
      "3      no-cache      no-cache   \n",
      "4      no-cache      no-cache   \n",
      "...         ...           ...   \n",
      "61060  no-cache      no-cache   \n",
      "61061  no-cache      no-cache   \n",
      "61062  no-cache      no-cache   \n",
      "61063  no-cache      no-cache   \n",
      "61064  no-cache      no-cache   \n",
      "\n",
      "                                                  Accept  \\\n",
      "0      text/xml,application/xml,application/xhtml+xml...   \n",
      "1      text/xml,application/xml,application/xhtml+xml...   \n",
      "2      text/xml,application/xml,application/xhtml+xml...   \n",
      "3      text/xml,application/xml,application/xhtml+xml...   \n",
      "4      text/xml,application/xml,application/xhtml+xml...   \n",
      "...                                                  ...   \n",
      "61060  text/xml,application/xml,application/xhtml+xml...   \n",
      "61061  text/xml,application/xml,application/xhtml+xml...   \n",
      "61062  text/xml,application/xml,application/xhtml+xml...   \n",
      "61063  text/xml,application/xml,application/xhtml+xml...   \n",
      "61064  text/xml,application/xml,application/xhtml+xml...   \n",
      "\n",
      "                        Accept-encoding               Accept-charset language  \\\n",
      "0      x-gzip, x-deflate, gzip, deflate  utf-8, utf-8;q=0.5, *;q=0.5       en   \n",
      "1      x-gzip, x-deflate, gzip, deflate  utf-8, utf-8;q=0.5, *;q=0.5       en   \n",
      "2      x-gzip, x-deflate, gzip, deflate  utf-8, utf-8;q=0.5, *;q=0.5       en   \n",
      "3      x-gzip, x-deflate, gzip, deflate  utf-8, utf-8;q=0.5, *;q=0.5       en   \n",
      "4      x-gzip, x-deflate, gzip, deflate  utf-8, utf-8;q=0.5, *;q=0.5       en   \n",
      "...                                 ...                          ...      ...   \n",
      "61060  x-gzip, x-deflate, gzip, deflate  utf-8, utf-8;q=0.5, *;q=0.5       en   \n",
      "61061  x-gzip, x-deflate, gzip, deflate  utf-8, utf-8;q=0.5, *;q=0.5       en   \n",
      "61062  x-gzip, x-deflate, gzip, deflate  utf-8, utf-8;q=0.5, *;q=0.5       en   \n",
      "61063  x-gzip, x-deflate, gzip, deflate  utf-8, utf-8;q=0.5, *;q=0.5       en   \n",
      "61064  x-gzip, x-deflate, gzip, deflate  utf-8, utf-8;q=0.5, *;q=0.5       en   \n",
      "\n",
      "                 host                                       cookie  \\\n",
      "0      localhost:8080  JSESSIONID=1F767F17239C9B670A39E9B10C3825F4   \n",
      "1      localhost:8080  JSESSIONID=81761ACA043B0E6014CA42A4BCD06AB5   \n",
      "2      localhost:8080  JSESSIONID=933185092E0B668B90676E0A2B0767AF   \n",
      "3      localhost:8080  JSESSIONID=8FA18BA82C5336D03D3A8AFA3E68CBB0   \n",
      "4      localhost:8080  JSESSIONID=7104E6C68A6BCF1423DAE990CE49FEE2   \n",
      "...               ...                                          ...   \n",
      "61060  localhost:8080  JSESSIONID=62216ADBBD9B91E17CA9AFEDCCC36275   \n",
      "61061  localhost:8080  JSESSIONID=2317F5C0B1B7FAD18EB425E98DB102A3   \n",
      "61062  localhost:8080  JSESSIONID=7F0BA54A88B849EF752006D388E15CDD   \n",
      "61063  localhost:8080  JSESSIONID=FB018FFB06011CFABD60D8E8AD58CA21   \n",
      "61064  localhost:8080  JSESSIONID=3CC12010CDA952F123240EBAD79B55CC   \n",
      "\n",
      "                            content-type         connection  \\\n",
      "0                                    NaN              close   \n",
      "1                                    NaN              close   \n",
      "2      application/x-www-form-urlencoded  Connection: close   \n",
      "3                                    NaN              close   \n",
      "4      application/x-www-form-urlencoded  Connection: close   \n",
      "...                                  ...                ...   \n",
      "61060                                NaN              close   \n",
      "61061  application/x-www-form-urlencoded  Connection: close   \n",
      "61062                                NaN              close   \n",
      "61063                                NaN              close   \n",
      "61064                                NaN              close   \n",
      "\n",
      "                    lenght                                            content  \\\n",
      "0                      NaN                                                NaN   \n",
      "1                      NaN                                                NaN   \n",
      "2       Content-Length: 68  id=3&nombre=Vino+Rioja&precio=100&cantidad=55&...   \n",
      "3                      NaN                                                NaN   \n",
      "4       Content-Length: 63  modo=entrar&login=choong&pwd=d1se3ci%F3n&remem...   \n",
      "...                    ...                                                ...   \n",
      "61060                  NaN                                                NaN   \n",
      "61061  Content-Length: 255  modo=registro&login=beaumont&password=quEratIt...   \n",
      "61062                  NaN                                                NaN   \n",
      "61063                  NaN                                                NaN   \n",
      "61064                  NaN                                                NaN   \n",
      "\n",
      "       classification                                                URL  \n",
      "0                   0   http://localhost:8080/tienda1/index.jsp HTTP/1.1  \n",
      "1                   0  http://localhost:8080/tienda1/publico/anadir.j...  \n",
      "2                   0  http://localhost:8080/tienda1/publico/anadir.j...  \n",
      "3                   0  http://localhost:8080/tienda1/publico/autentic...  \n",
      "4                   0  http://localhost:8080/tienda1/publico/autentic...  \n",
      "...               ...                                                ...  \n",
      "61060               1  http://localhost:8080/tienda1/miembros/editar....  \n",
      "61061               1  http://localhost:8080/tienda1/miembros/editar....  \n",
      "61062               1  http://localhost:8080/tienda1/miembros/editar....  \n",
      "61063               1  http://localhost:8080/tienda1/imagenes/3.gif/ ...  \n",
      "61064               1  http://localhost:8080/tienda1/imagenes/nuestra...  \n",
      "\n",
      "[61065 rows x 17 columns]>\n",
      "Unnamed: 0             0\n",
      "Method                 0\n",
      "User-Agent             0\n",
      "Pragma                 0\n",
      "Cache-Control          0\n",
      "Accept               397\n",
      "Accept-encoding        0\n",
      "Accept-charset         0\n",
      "language               0\n",
      "host                   0\n",
      "cookie                 0\n",
      "content-type       43088\n",
      "connection             0\n",
      "lenght             43088\n",
      "content            43088\n",
      "classification         0\n",
      "URL                    0\n",
      "dtype: int64\n",
      "classification\n",
      "0    36000\n",
      "1    25065\n",
      "Name: count, dtype: int64\n"
     ]
    }
   ],
   "source": [
    "\n",
    "print(\"\\nScheme Overview:\\n\",df.info)\n",
    "# Check missing values\n",
    "print(df.isnull().sum())\n",
    "\n",
    "# Distribution of labels\n",
    "print(df[\"classification\"].value_counts())\n"
   ]
  },
  {
   "cell_type": "code",
   "execution_count": 7,
   "id": "fbed1a33-2642-4059-a4c0-0db979a52f12",
   "metadata": {},
   "outputs": [
    {
     "name": "stdout",
     "output_type": "stream",
     "text": [
      "Index(['Unnamed: 0', 'Method', 'User-Agent', 'Pragma', 'Cache-Control',\n",
      "       'Accept', 'Accept-encoding', 'Accept-charset', 'language', 'host',\n",
      "       'content-type', 'connection', 'lenght', 'content', 'classification',\n",
      "       'URL', 'url_length', 'num_question_marks', 'num_equals', 'num_percent',\n",
      "       'num_slash', 'num_special'],\n",
      "      dtype='object')\n",
      "✅ Feature engineering complete: (61065, 22)\n"
     ]
    }
   ],
   "source": [
    "#Feature Extraction\n",
    "# Actual column names\n",
    "print(df.columns)\n",
    "\n",
    "# Use the correct column (replace \"URL\" with yours if needed)\n",
    "df[\"url_length\"] = df[\"URL\"].str.len()\n",
    "df[\"num_question_marks\"] = df[\"URL\"].str.count(r\"\\?\")\n",
    "df[\"num_equals\"] = df[\"URL\"].str.count(\"=\")\n",
    "df[\"num_percent\"] = df[\"URL\"].str.count(\"%\")\n",
    "df[\"num_slash\"] = df[\"URL\"].str.count(\"/\")\n",
    "df[\"num_special\"] = df[\"URL\"].str.count(r\"[@#$&]\")\n",
    "\n",
    "# Handle missing values\n",
    "if \"content_length\" in df.columns:\n",
    "    df[\"content_length\"] = df[\"content_length\"].fillna(0)\n",
    "\n",
    "# Drop unused\n",
    "df = df.drop(columns=[\"cookie\"], errors=\"ignore\")\n",
    "\n",
    "\n",
    "print(\"✅ Feature engineering complete:\", df.shape)"
   ]
  },
  {
   "cell_type": "code",
   "execution_count": 12,
   "id": "876b6c57-d46b-4fd2-9d44-d468259acf11",
   "metadata": {},
   "outputs": [
    {
     "name": "stdout",
     "output_type": "stream",
     "text": [
      "✅ All categorical columns encoded.\n"
     ]
    }
   ],
   "source": [
    "from sklearn.preprocessing import LabelEncoder\n",
    "\n",
    "# Convert classification into numbers (0 = Normal, 1 = Anomalous)\n",
    "if df[\"classification\"].dtype == 'object':\n",
    "    df[\"classification\"] = df[\"classification\"].map({\"Normal\": 0, \"Anomalous\": 1})\n",
    "\n",
    "# Encode all non-numeric columns\n",
    "for col in df.columns:\n",
    "    if df[col].dtype == 'object':\n",
    "        df[col] = LabelEncoder().fit_transform(df[col].astype(str))\n",
    "\n",
    "print(\"✅ All categorical columns encoded.\")\n"
   ]
  },
  {
   "cell_type": "code",
   "execution_count": 13,
   "id": "6240125a-a169-47cf-b535-fa4a25339493",
   "metadata": {},
   "outputs": [
    {
     "name": "stdout",
     "output_type": "stream",
     "text": [
      "Train: (48852, 21) Test: (12213, 21)\n"
     ]
    }
   ],
   "source": [
    "# Train-Test Split\n",
    "from sklearn.model_selection import train_test_split\n",
    "\n",
    "X = df.drop(columns=[\"classification\"])\n",
    "y = df[\"classification\"]\n",
    "\n",
    "X_train, X_test, y_train, y_test = train_test_split(\n",
    "    X, y, test_size=0.2, random_state=42\n",
    ")\n",
    "\n",
    "print(\"Train:\", X_train.shape, \"Test:\", X_test.shape)\n"
   ]
  },
  {
   "cell_type": "code",
   "execution_count": 14,
   "id": "5245c6ae-d5ae-4ef7-85a3-e5e935b96941",
   "metadata": {},
   "outputs": [
    {
     "name": "stdout",
     "output_type": "stream",
     "text": [
      "📊 Confusion Matrix:\n",
      "[[7148    0]\n",
      " [   0 5065]]\n",
      "\n",
      "📊 Classification Report:\n",
      "              precision    recall  f1-score   support\n",
      "\n",
      "      Normal       1.00      1.00      1.00      7148\n",
      "   Anomalous       1.00      1.00      1.00      5065\n",
      "\n",
      "    accuracy                           1.00     12213\n",
      "   macro avg       1.00      1.00      1.00     12213\n",
      "weighted avg       1.00      1.00      1.00     12213\n",
      "\n"
     ]
    }
   ],
   "source": [
    "#  Model Training (Random Forest)\n",
    "from sklearn.ensemble import RandomForestClassifier\n",
    "from sklearn.metrics import classification_report, confusion_matrix\n",
    "\n",
    "model = RandomForestClassifier(n_estimators=100, random_state=42)\n",
    "model.fit(X_train, y_train)\n",
    "\n",
    "y_pred = model.predict(X_test)\n",
    "\n",
    "print(\"📊 Confusion Matrix:\")\n",
    "print(confusion_matrix(y_test, y_pred))\n",
    "\n",
    "print(\"\\n📊 Classification Report:\")\n",
    "print(classification_report(y_test, y_pred, target_names=[\"Normal\", \"Anomalous\"]))\n"
   ]
  },
  {
   "cell_type": "code",
   "execution_count": 15,
   "id": "a6ae0d3e-cdf2-471b-9f14-cee577246609",
   "metadata": {},
   "outputs": [
    {
     "name": "stdout",
     "output_type": "stream",
     "text": [
      "💾 Results saved to csic2010_predictions.csv\n"
     ]
    }
   ],
   "source": [
    "#  Save Results\n",
    "df_results = X_test.copy()\n",
    "df_results[\"true_label\"] = y_test\n",
    "df_results[\"predicted\"] = y_pred\n",
    "\n",
    "df_results.to_csv(\"csic2010_predictions.csv\", index=False)\n",
    "print(\"💾 Results saved to csic2010_predictions.csv\")\n"
   ]
  },
  {
   "cell_type": "code",
   "execution_count": 24,
   "id": "802df459-1961-48f5-8220-91dde9994cdb",
   "metadata": {},
   "outputs": [
    {
     "name": "stdout",
     "output_type": "stream",
     "text": [
      "Cross-validation scores: [0.91451732 0.91803816 0.91320724 0.9162368  0.91361664]\n",
      "Mean accuracy: 0.9151232293457789\n"
     ]
    }
   ],
   "source": [
    "from sklearn.model_selection import cross_val_score\n",
    "scores = cross_val_score(model, X, y, cv=5)\n",
    "print(\"Cross-validation scores:\", scores)\n",
    "print(\"Mean accuracy:\", scores.mean())"
   ]
  },
  {
   "cell_type": "code",
   "execution_count": 30,
   "id": "2f106550-9b49-45ba-9555-83643f2fac8d",
   "metadata": {},
   "outputs": [
    {
     "data": {
      "image/png": "[encoded data removed]",
      "text/plain": [
       "<Figure size 1000x600 with 1 Axes>"
      ]
     },
     "metadata": {},
     "output_type": "display_data"
    }
   ],
   "source": [
    "import matplotlib.pyplot as plt\n",
    "import numpy as np\n",
    "top_n = 10\n",
    "plt.figure(figsize=(10,6))\n",
    "plt.bar(range(top_n), importances[indices[:top_n]], align=\"center\")\n",
    "plt.xticks(range(top_n), feature_names[indices[:top_n]], rotation=45)\n",
    "plt.title(\"Top 10 Feature Importances\")\n",
    "plt.show()\n"
   ]
  },
  {
   "cell_type": "code",
   "execution_count": 5,
   "id": "5ea7f69d-dfdb-45bc-bb12-c6d894b31176",
   "metadata": {},
   "outputs": [
    {
     "name": "stdout",
     "output_type": "stream",
     "text": [
      "<class 'pandas.core.frame.DataFrame'>\n",
      "RangeIndex: 12213 entries, 0 to 12212\n",
      "Data columns (total 23 columns):\n",
      " #   Column              Non-Null Count  Dtype\n",
      "---  ------              --------------  -----\n",
      " 0   Unnamed: 0          12213 non-null  int64\n",
      " 1   Method              12213 non-null  int64\n",
      " 2   User-Agent          12213 non-null  int64\n",
      " 3   Pragma              12213 non-null  int64\n",
      " 4   Cache-Control       12213 non-null  int64\n",
      " 5   Accept              12213 non-null  int64\n",
      " 6   Accept-encoding     12213 non-null  int64\n",
      " 7   Accept-charset      12213 non-null  int64\n",
      " 8   language            12213 non-null  int64\n",
      " 9   host                12213 non-null  int64\n",
      " 10  content-type        12213 non-null  int64\n",
      " 11  connection          12213 non-null  int64\n",
      " 12  lenght              12213 non-null  int64\n",
      " 13  content             12213 non-null  int64\n",
      " 14  URL                 12213 non-null  int64\n",
      " 15  url_length          12213 non-null  int64\n",
      " 16  num_question_marks  12213 non-null  int64\n",
      " 17  num_equals          12213 non-null  int64\n",
      " 18  num_percent         12213 non-null  int64\n",
      " 19  num_slash           12213 non-null  int64\n",
      " 20  num_special         12213 non-null  int64\n",
      " 21  true_label          12213 non-null  int64\n",
      " 22  predicted           12213 non-null  int64\n",
      "dtypes: int64(23)\n",
      "memory usage: 2.1 MB\n"
     ]
    }
   ],
   "source": [
    "df=pd.read_csv(\"csic2010_predictions.csv\")\n",
    "df.info()"
   ]
  },
  {
   "cell_type": "code",
   "execution_count": null,
   "id": "57c35df4-eb63-4fa7-8fbc-ed395352e389",
   "metadata": {},
   "outputs": [],
   "source": []
  }
 ],
 "metadata": {
  "kernelspec": {
   "display_name": "Python 3 (ipykernel)",
   "language": "python",
   "name": "python3"
  },
  "language_info": {
   "codemirror_mode": {
    "name": "ipython",
    "version": 3
   },
   "file_extension": ".py",
   "mimetype": "text/x-python",
   "name": "python",
   "nbconvert_exporter": "python",
   "pygments_lexer": "ipython3",
   "version": "3.12.0"
  }
 },
 "nbformat": 4,
 "nbformat_minor": 5
}
